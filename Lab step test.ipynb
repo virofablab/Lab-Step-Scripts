{
 "cells": [
  {
   "cell_type": "code",
   "execution_count": 1,
   "id": "28382943",
   "metadata": {},
   "outputs": [],
   "source": [
    "import labstep\n",
    "from utils import Query_Info, Edit_Resources\n",
    "\n",
    "# Login\n",
    "USER_EMAIL = \"junfan.chen@kaust.edu.sa\"\n",
    "API_NAME= \"junfan_test_py\"                                                 # Replace with the API name for the user\n",
    "API_KEY = \"lsp_6C9Xfcg291aUO2alD7ijF29rZtiYH0hKE9anbTjVx3\"                 # Replace with the actual API key                         \n",
    "WORKSPACE_NAME = \"Laboratory for Applied Virology and Precision Medicine\"  # Replace the workspace name if workspace is different\n",
    "user = labstep.authenticate(username=USER_EMAIL, apikey=API_KEY)"
   ]
  },
  {
   "cell_type": "code",
   "execution_count": 2,
   "id": "1c645f92",
   "metadata": {},
   "outputs": [],
   "source": [
    "get_query = Query_Info(user, USER_EMAIL, API_NAME, API_KEY, WORKSPACE_NAME)\n",
    "workspace = get_query.workspace\n",
    "experiments = get_query.get_experiment()\n",
    "protocols = get_query.get_protocol()\n",
    "resources = get_query.get_resources()\n",
    "devices = get_query.get_devices()\n",
    "resource_category_id = get_query.get_resource_category_id()"
   ]
  },
  {
   "cell_type": "code",
   "execution_count": null,
   "id": "6932b580",
   "metadata": {},
   "outputs": [],
   "source": [
    "edit_resource = Edit_Resources(user, USER_EMAIL, API_NAME, API_KEY, WORKSPACE_NAME)\n",
    "edit_resource.add_new_resource(resource_name=\"Test_Primer_Python\", resource_category_name=\"Primers\")"
   ]
  },
  {
   "cell_type": "code",
   "execution_count": null,
   "id": "1e012a88",
   "metadata": {},
   "outputs": [],
   "source": [
    "# import pandas as pd\n",
    "\n",
    "# with pd.ExcelWriter('labstep_data.xlsx', engine=\"openpyxl\",) as writer:\n",
    "#     # Write each DataFrame to a different sheet\n",
    "#     experiments.to_excel(writer, sheet_name='Experiments', index=False)\n",
    "#     protocols.to_excel(writer, sheet_name='Protocols', index=False)\n",
    "#     resources.to_excel(writer, sheet_name='Resources', index=False)\n",
    "#     devices.to_excel(writer, sheet_name='Devices', index=False)"
   ]
  }
 ],
 "metadata": {
  "kernelspec": {
   "display_name": "Python 3",
   "language": "python",
   "name": "python3"
  },
  "language_info": {
   "codemirror_mode": {
    "name": "ipython",
    "version": 3
   },
   "file_extension": ".py",
   "mimetype": "text/x-python",
   "name": "python",
   "nbconvert_exporter": "python",
   "pygments_lexer": "ipython3",
   "version": "3.11.7"
  }
 },
 "nbformat": 4,
 "nbformat_minor": 5
}
